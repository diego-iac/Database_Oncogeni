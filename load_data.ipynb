{
 "cells": [
  {
   "cell_type": "code",
   "execution_count": 1,
   "id": "7be8a449",
   "metadata": {},
   "outputs": [],
   "source": [
    "import numpy as np\n",
    "import pandas as pd\n",
    "import os"
   ]
  },
  {
   "cell_type": "code",
   "execution_count": null,
   "id": "7f9835b7",
   "metadata": {},
   "outputs": [],
   "source": [
    "# setta la cartella di lavoro\n",
    "os.chdir(\".\")"
   ]
  },
  {
   "cell_type": "code",
   "execution_count": null,
   "id": "ede836b9",
   "metadata": {},
   "outputs": [],
   "source": [
    "# malattie\n",
    "healthy_drivers = pd.read_csv(\"healthy_drivers.csv\")\n",
    "cancer_drivers = pd.read_csv(\"cancer_drivers.csv\")\n",
    "drivers = pd.read_csv(\"drivers.csv\")"
   ]
  },
  {
   "cell_type": "code",
   "execution_count": null,
   "id": "1f041341",
   "metadata": {},
   "outputs": [],
   "source": [
    "# uniprot\n",
    "uniprot_info = pd.read_csv(\"uniprot_info_2.csv\")"
   ]
  },
  {
   "cell_type": "code",
   "execution_count": 3,
   "id": "85ed8be3",
   "metadata": {},
   "outputs": [],
   "source": [
    "# prosite_protein\n",
    "prosite_protein_info = pd.read_csv(\"prosite_protein_info_total.csv\", names = [\"AC_uniprot\", \"AC_prosite\", \"start\", \"stop\", \"reference_sequence\" ])"
   ]
  },
  {
   "cell_type": "code",
   "execution_count": null,
   "id": "6abc815b",
   "metadata": {},
   "outputs": [],
   "source": [
    "# prosite\n",
    "prosite_info = pd.read_csv(\"prosite_info.csv\", names = [\"accession\", \"name\", \"description\", \"pattern\"] )"
   ]
  },
  {
   "cell_type": "code",
   "execution_count": 4,
   "id": "d7794ff5",
   "metadata": {},
   "outputs": [],
   "source": [
    "#signor_protein\n",
    "signor_protein_info = pd.read_csv(\"signor_info.csv\")"
   ]
  }
 ],
 "metadata": {
  "kernelspec": {
   "display_name": "Python 3",
   "language": "python",
   "name": "python3"
  },
  "language_info": {
   "codemirror_mode": {
    "name": "ipython",
    "version": 3
   },
   "file_extension": ".py",
   "mimetype": "text/x-python",
   "name": "python",
   "nbconvert_exporter": "python",
   "pygments_lexer": "ipython3",
   "version": "3.8.10"
  }
 },
 "nbformat": 4,
 "nbformat_minor": 5
}
