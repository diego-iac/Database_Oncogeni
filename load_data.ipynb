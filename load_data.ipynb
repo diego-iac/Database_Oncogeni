{
  "cells": [
    {
      "cell_type": "markdown",
      "metadata": {
        "id": "view-in-github",
        "colab_type": "text"
      },
      "source": [
        "<a href=\"https://colab.research.google.com/github/diego-iac/Database_Oncogeni/blob/main/load_data.ipynb\" target=\"_parent\"><img src=\"https://colab.research.google.com/assets/colab-badge.svg\" alt=\"Open In Colab\"/></a>"
      ]
    },
    {
      "cell_type": "code",
      "execution_count": null,
      "id": "7be8a449",
      "metadata": {
        "id": "7be8a449"
      },
      "outputs": [],
      "source": [
        "import numpy as np\n",
        "import pandas as pd\n",
        "import os"
      ]
    },
    {
      "cell_type": "code",
      "execution_count": null,
      "id": "7f9835b7",
      "metadata": {
        "id": "7f9835b7"
      },
      "outputs": [],
      "source": [
        "# setta la cartella di lavoro\n",
        "os.chdir(\".\")"
      ]
    },
    {
      "cell_type": "code",
      "execution_count": null,
      "id": "ede836b9",
      "metadata": {
        "id": "ede836b9"
      },
      "outputs": [],
      "source": [
        "# malattie\n",
        "healthy_drivers = pd.read_csv(\"healthy_drivers.csv\")\n",
        "cancer_drivers = pd.read_csv(\"cancer_drivers.csv\")\n",
        "drivers = pd.read_csv(\"drivers.csv\")"
      ]
    },
    {
      "cell_type": "code",
      "execution_count": null,
      "id": "1f041341",
      "metadata": {
        "id": "1f041341"
      },
      "outputs": [],
      "source": [
        "# uniprot\n",
        "uniprot_info = pd.read_csv(\"uniprot_info_2.csv\")"
      ]
    },
    {
      "cell_type": "code",
      "execution_count": null,
      "id": "85ed8be3",
      "metadata": {
        "id": "85ed8be3"
      },
      "outputs": [],
      "source": [
        "# prosite_protein\n",
        "prosite_protein_info = pd.read_csv(\"prosite_protein_info_total.csv\", names = [\"AC_uniprot\", \"AC_prosite\", \"start\", \"stop\", \"reference_sequence\" ])"
      ]
    },
    {
      "cell_type": "code",
      "execution_count": null,
      "id": "6abc815b",
      "metadata": {
        "id": "6abc815b"
      },
      "outputs": [],
      "source": [
        "# prosite\n",
        "prosite_info = pd.read_csv(\"prosite_info.csv\", names = [\"accession\", \"name\", \"description\", \"pattern\"] )"
      ]
    },
    {
      "cell_type": "code",
      "execution_count": null,
      "id": "d7794ff5",
      "metadata": {
        "id": "d7794ff5"
      },
      "outputs": [],
      "source": [
        "#signor_protein\n",
        "signor_protein_info = pd.read_csv(\"signor_info.csv\")"
      ]
    }
  ],
  "metadata": {
    "kernelspec": {
      "display_name": "Python 3",
      "language": "python",
      "name": "python3"
    },
    "language_info": {
      "codemirror_mode": {
        "name": "ipython",
        "version": 3
      },
      "file_extension": ".py",
      "mimetype": "text/x-python",
      "name": "python",
      "nbconvert_exporter": "python",
      "pygments_lexer": "ipython3",
      "version": "3.8.10"
    },
    "colab": {
      "provenance": [],
      "include_colab_link": true
    }
  },
  "nbformat": 4,
  "nbformat_minor": 5
}